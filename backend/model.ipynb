{
 "cells": [
  {
   "cell_type": "markdown",
   "id": "2073967e",
   "metadata": {},
   "source": [
    "### Generating Fake Data"
   ]
  },
  {
   "cell_type": "code",
   "execution_count": 1,
   "id": "5e592e04",
   "metadata": {},
   "outputs": [
    {
     "name": "stdout",
     "output_type": "stream",
     "text": [
      "   total_savings  total_expenditure  savings_rate  num_savings_accounts  \\\n",
      "0         109715             154009      0.712393                     2   \n",
      "1         140263              77480      1.810312                     2   \n",
      "2         117746             127622      0.922615                     1   \n",
      "3         160554             138659      1.157905                     3   \n",
      "4         102403             175125      0.584742                     1   \n",
      "\n",
      "   num_current_accounts  total_account_balance  num_investments  \\\n",
      "0                     1                 148632                0   \n",
      "1                     2                 180971                2   \n",
      "2                     2                  90446                3   \n",
      "3                     1                 172204                0   \n",
      "4                     1                  29132                0   \n",
      "\n",
      "   total_investment  num_loans  total_loan_amount  total_loan_emi  num_assets  \\\n",
      "0                 0          1             290019            1191           2   \n",
      "1             34105          2             570149           13166           0   \n",
      "2             77455          0                  0               0           0   \n",
      "3                 0          0                  0               0           3   \n",
      "4                 0          1             515926            7951           0   \n",
      "\n",
      "   total_asset_value  salary  credit_score  \n",
      "0            6543236  157734           761  \n",
      "1                  0  122280           690  \n",
      "2                  0   63381           696  \n",
      "3            7042807  132898           744  \n",
      "4                  0  141185           736  \n"
     ]
    }
   ],
   "source": [
    "import random\n",
    "import datetime\n",
    "import pandas as pd\n",
    "\n",
    "def generate_fake_user(i):\n",
    "    savings = [random.randint(10000, 100000) for _ in range(2)]\n",
    "    expenditure = [random.randint(20000, 100000) for _ in range(2)]\n",
    "    \n",
    "    savings_accounts = [{\"bank_name\": random.choice([\"SBI\", \"HDFC\", \"ICICI\", \"Axis\"]), \n",
    "                         \"balance\": random.randint(10000, 100000)} for _ in range(random.randint(1, 3))]\n",
    "    \n",
    "    current_accounts = [{\"bank_name\": random.choice([\"SBI\", \"HDFC\", \"ICICI\", \"Axis\"]), \n",
    "                         \"balance\": random.randint(5000, 50000)} for _ in range(random.randint(1, 2))]\n",
    "    \n",
    "    investments = [{\"stock\": random.choice([\"RELIANCE\", \"TCS\", \"INFY\", \"HDFC\"]), \n",
    "                    \"quantity\": random.randint(1, 20), \n",
    "                    \"value\": random.randint(1000, 50000)} for _ in range(random.randint(0, 3))]\n",
    "    \n",
    "    loans = [{\"type\": random.choice([\"home\", \"education\", \"personal\"]), \n",
    "              \"amount\": random.randint(50000, 1000000), \n",
    "              \"emi\": random.randint(1000, 20000)} for _ in range(random.randint(0, 2))]\n",
    "    \n",
    "    assets = [{\"type\": random.choice([\"Land\", \"Real Estate\", \"Gold\", \"Vehicle\"]), \n",
    "               \"value\": random.randint(50000, 5000000)} for _ in range(random.randint(0, 3))]\n",
    "    \n",
    "    job = {\n",
    "        \"company\": random.choice([\"Google\", \"Microsoft\", \"Amazon\", \"TCS\"]),\n",
    "        \"designation\": random.choice([\"Software Developer\", \"Data Analyst\", \"Manager\"]),\n",
    "        \"salary\": random.randint(50000, 200000)\n",
    "    }\n",
    "    \n",
    "    # Generate mock credit score as a target\n",
    "    credit_score = random.randint(650, 800)\n",
    "    \n",
    "    return {\n",
    "        \"id\": i,\n",
    "        \"savings\": savings,\n",
    "        \"expenditure\": expenditure,\n",
    "        \"savings_accounts\": savings_accounts,\n",
    "        \"current_accounts\": current_accounts,\n",
    "        \"investments\": investments,\n",
    "        \"loans\": loans,\n",
    "        \"assets\": assets,\n",
    "        \"job\": job,\n",
    "        \"credit_score\": credit_score\n",
    "    }\n",
    "\n",
    "# Generate 50 users\n",
    "fake_users = [generate_fake_user(i) for i in range(50)]\n",
    "\n",
    "# Convert to DataFrame for training\n",
    "def extract_features(user):\n",
    "    return {\n",
    "        \"total_savings\": sum(user[\"savings\"]),\n",
    "        \"total_expenditure\": sum(user[\"expenditure\"]),\n",
    "        \"savings_rate\": sum(user[\"savings\"]) / max(sum(user[\"expenditure\"]), 1),\n",
    "        \"num_savings_accounts\": len(user[\"savings_accounts\"]),\n",
    "        \"num_current_accounts\": len(user[\"current_accounts\"]),\n",
    "        \"total_account_balance\": sum(acc[\"balance\"] for acc in user[\"savings_accounts\"] + user[\"current_accounts\"]),\n",
    "        \"num_investments\": len(user[\"investments\"]),\n",
    "        \"total_investment\": sum(inv[\"value\"] for inv in user[\"investments\"]),\n",
    "        \"num_loans\": len(user[\"loans\"]),\n",
    "        \"total_loan_amount\": sum(loan[\"amount\"] for loan in user[\"loans\"]),\n",
    "        \"total_loan_emi\": sum(loan[\"emi\"] for loan in user[\"loans\"]),\n",
    "        \"num_assets\": len(user[\"assets\"]),\n",
    "        \"total_asset_value\": sum(asset[\"value\"] for asset in user[\"assets\"]),\n",
    "        \"salary\": user[\"job\"][\"salary\"],\n",
    "        \"credit_score\": user[\"credit_score\"]\n",
    "    }\n",
    "\n",
    "df = pd.DataFrame([extract_features(u) for u in fake_users])\n",
    "print(df.head())\n"
   ]
  },
  {
   "cell_type": "markdown",
   "id": "b9f74ffe",
   "metadata": {},
   "source": [
    "### Training RandomForest and finding its MSE"
   ]
  },
  {
   "cell_type": "code",
   "execution_count": 2,
   "id": "706bb363",
   "metadata": {},
   "outputs": [
    {
     "name": "stdout",
     "output_type": "stream",
     "text": [
      "Test MSE: 1120.9446700000008\n"
     ]
    }
   ],
   "source": [
    "from sklearn.ensemble import RandomForestRegressor\n",
    "from sklearn.model_selection import train_test_split\n",
    "from sklearn.metrics import mean_squared_error\n",
    "\n",
    "X = df.drop(columns=[\"credit_score\"])\n",
    "y = df[\"credit_score\"]\n",
    "\n",
    "X_train, X_test, y_train, y_test = train_test_split(X, y, test_size=0.2, random_state=42)\n",
    "\n",
    "model = RandomForestRegressor(n_estimators=100, random_state=42)\n",
    "model.fit(X_train, y_train)\n",
    "\n",
    "y_pred = model.predict(X_test)\n",
    "mse = mean_squared_error(y_test, y_pred)\n",
    "print(\"Test MSE:\", mse)\n"
   ]
  },
  {
   "cell_type": "markdown",
   "id": "09c37f47",
   "metadata": {},
   "source": [
    "### Applying HPO to RandomForest"
   ]
  },
  {
   "cell_type": "code",
   "execution_count": 4,
   "id": "8183bdb1",
   "metadata": {},
   "outputs": [
    {
     "name": "stdout",
     "output_type": "stream",
     "text": [
      "Best parameters: {'max_depth': None, 'max_features': 'sqrt', 'min_samples_leaf': 1, 'min_samples_split': 10, 'n_estimators': 100}\n",
      "Test MSE: 1120.9446700000008\n"
     ]
    }
   ],
   "source": [
    "from sklearn.ensemble import RandomForestRegressor\n",
    "from sklearn.model_selection import GridSearchCV\n",
    "\n",
    "rf = RandomForestRegressor(random_state=42)\n",
    "\n",
    "param_grid = {\n",
    "    'n_estimators': [100, 200, 500],\n",
    "    'max_depth': [None, 10, 20],\n",
    "    'min_samples_split': [2, 5, 10],\n",
    "    'min_samples_leaf': [1, 2, 4],\n",
    "    'max_features': ['sqrt', 'log2']\n",
    "}\n",
    "\n",
    "grid_search = GridSearchCV(rf, param_grid, cv=5, scoring='neg_mean_squared_error')\n",
    "grid_search.fit(X_train, y_train)\n",
    "\n",
    "best_model = grid_search.best_estimator_\n",
    "print(\"Best parameters:\", grid_search.best_params_)\n",
    "y_pred_best = best_model.predict(X_test)\n",
    "mse = mean_squared_error(y_test, y_pred)\n",
    "print(\"Test MSE:\", mse)"
   ]
  },
  {
   "cell_type": "code",
   "execution_count": 5,
   "id": "ca8ed03a",
   "metadata": {},
   "outputs": [
    {
     "name": "stdout",
     "output_type": "stream",
     "text": [
      "Test MSE: 1364.964656214141\n"
     ]
    }
   ],
   "source": [
    "mse = mean_squared_error(y_test, y_pred_best)\n",
    "print(\"Test MSE:\", mse)"
   ]
  },
  {
   "cell_type": "markdown",
   "id": "eaa0f91d",
   "metadata": {},
   "source": [
    "### \"Stacked Ensemble: Random Forest + Gradient Boosting with Linear Regression Meta-Model\""
   ]
  },
  {
   "cell_type": "code",
   "execution_count": 6,
   "id": "99bcaf4c",
   "metadata": {},
   "outputs": [
    {
     "name": "stdout",
     "output_type": "stream",
     "text": [
      "Test MSE: 1094.6302860067833\n"
     ]
    }
   ],
   "source": [
    "from sklearn.ensemble import RandomForestRegressor, GradientBoostingRegressor\n",
    "\n",
    "rf = RandomForestRegressor(n_estimators=300, max_depth=15, min_samples_leaf=2, random_state=42)\n",
    "gb = GradientBoostingRegressor(n_estimators=300, learning_rate=0.05, max_depth=5, random_state=42)\n",
    "\n",
    "rf.fit(X_train, y_train)\n",
    "gb.fit(X_train, y_train)\n",
    "from sklearn.linear_model import LinearRegression\n",
    "import numpy as np\n",
    "\n",
    "# Base predictions\n",
    "rf_pred = rf.predict(X_train)\n",
    "gb_pred = gb.predict(X_train)\n",
    "\n",
    "# Stack features\n",
    "stack_X = np.column_stack((rf_pred, gb_pred))\n",
    "meta_model = LinearRegression()\n",
    "meta_model.fit(stack_X, y_train)\n",
    "\n",
    "# Predict on test\n",
    "rf_test_pred = rf.predict(X_test)\n",
    "gb_test_pred = gb.predict(X_test)\n",
    "stack_X_test = np.column_stack((rf_test_pred, gb_test_pred))\n",
    "final_pred = meta_model.predict(stack_X_test)\n",
    "mse = mean_squared_error(y_test, final_pred)\n",
    "print(\"Test MSE:\", mse)\n"
   ]
  },
  {
   "cell_type": "markdown",
   "id": "76f88ac7",
   "metadata": {},
   "source": [
    "### Testing Stacked model with a data"
   ]
  },
  {
   "cell_type": "code",
   "execution_count": null,
   "id": "bb72bd67",
   "metadata": {},
   "outputs": [
    {
     "name": "stdout",
     "output_type": "stream",
     "text": [
      "Predicted Credit Score: 706.89\n"
     ]
    }
   ],
   "source": [
    "sample_user = {\n",
    "    \"savings\": [40000, 50000],\n",
    "    \"expenditure\": [59999.99, 50000],\n",
    "    \"savings_accounts\": [\n",
    "        {\"bank_name\": \"SBI\", \"balance\": 50000}\n",
    "    ],\n",
    "    \"current_accounts\": [\n",
    "        {\"bank_name\": \"HDFC\", \"balance\": 50000}\n",
    "    ],\n",
    "    \"investments\": [\n",
    "        {\"stock\": \"RELIANCE\", \"quantity\": 2, \"value\": 2000}\n",
    "    ],\n",
    "    \"loans\": [\n",
    "        {\"type\": \"education\", \"amount\": 500000, \"emi\": 5000}\n",
    "    ],\n",
    "    \"assets\": [\n",
    "        {\"type\": \"Land\", \"value\": 1000000}\n",
    "    ],\n",
    "    \"job\": {\n",
    "        \"company\": \"Google\",\n",
    "        \"designation\": \"Software Developer\",\n",
    "        \"salary\": 100000\n",
    "    }\n",
    "}\n",
    "\n",
    "# Convert to model features\n",
    "sample_features = {\n",
    "    \"total_savings\": sum(sample_user[\"savings\"]),\n",
    "    \"total_expenditure\": sum(sample_user[\"expenditure\"]),\n",
    "    \"savings_rate\": sum(sample_user[\"savings\"]) / sum(sample_user[\"expenditure\"]),\n",
    "    \"num_savings_accounts\": len(sample_user[\"savings_accounts\"]),\n",
    "    \"num_current_accounts\": len(sample_user[\"current_accounts\"]),\n",
    "    \"total_account_balance\": sum(acc[\"balance\"] for acc in sample_user[\"savings_accounts\"] + sample_user[\"current_accounts\"]),\n",
    "    \"num_investments\": len(sample_user[\"investments\"]),\n",
    "    \"total_investment\": sum(inv[\"value\"] for inv in sample_user[\"investments\"]),\n",
    "    \"num_loans\": len(sample_user[\"loans\"]),\n",
    "    \"total_loan_amount\": sum(loan[\"amount\"] for loan in sample_user[\"loans\"]),\n",
    "    \"total_loan_emi\": sum(loan[\"emi\"] for loan in sample_user[\"loans\"]),\n",
    "    \"num_assets\": len(sample_user[\"assets\"]),\n",
    "    \"total_asset_value\": sum(asset[\"value\"] for asset in sample_user[\"assets\"]),\n",
    "    \"salary\": sample_user[\"job\"][\"salary\"]\n",
    "}\n",
    "\n",
    "# Convert to DataFrame for prediction\n",
    "import pandas as pd\n",
    "sample_df = pd.DataFrame([sample_features])\n",
    "\n",
    "# Predict using trained model\n",
    "predicted_credit_score = model.predict(sample_df)[0]\n",
    "\n",
    "print(\"Predicted Credit Score:\", predicted_credit_score)\n"
   ]
  },
  {
   "cell_type": "markdown",
   "id": "5b1e41fe",
   "metadata": {},
   "source": [
    "### Saving the Model"
   ]
  },
  {
   "cell_type": "code",
   "execution_count": 7,
   "id": "941d8b96",
   "metadata": {},
   "outputs": [
    {
     "data": {
      "text/plain": [
       "['meta_model.pkl']"
      ]
     },
     "execution_count": 7,
     "metadata": {},
     "output_type": "execute_result"
    }
   ],
   "source": [
    "import joblib\n",
    "\n",
    "# Save trained model\n",
    "joblib.dump(rf, \"rf_model.pkl\")\n",
    "joblib.dump(gb, \"gb_model.pkl\")\n",
    "joblib.dump(meta_model , \"meta_model.pkl\")"
   ]
  }
 ],
 "metadata": {
  "kernelspec": {
   "display_name": "Python 3",
   "language": "python",
   "name": "python3"
  },
  "language_info": {
   "codemirror_mode": {
    "name": "ipython",
    "version": 3
   },
   "file_extension": ".py",
   "mimetype": "text/x-python",
   "name": "python",
   "nbconvert_exporter": "python",
   "pygments_lexer": "ipython3",
   "version": "3.10.11"
  }
 },
 "nbformat": 4,
 "nbformat_minor": 5
}
